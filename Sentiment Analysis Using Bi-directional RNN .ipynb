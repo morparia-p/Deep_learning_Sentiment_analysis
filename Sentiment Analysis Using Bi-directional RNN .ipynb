{
 "cells": [
  {
   "cell_type": "markdown",
   "metadata": {},
   "source": [
    "<h1>Sentiment Analysis Using Bi-directional RNN (LSTM)</h1>\n",
    "<p>Copyright : Paritosh Morparia</p>\n",
    "<p>Indiana University</p>"
   ]
  },
  {
   "cell_type": "markdown",
   "metadata": {},
   "source": [
    "<h4>Data Source</h4>\n",
    "<p>The data used here is provided by keras as [IMDB movie reviews](https://keras.io/datasets/), where reviews have been classified as either positive or negative</p>\n",
    "<p>The data is available to import using the function:</p>\n",
    "<b>keras.datasets.imdb.load_data()</b></br>\n",
    "\n",
    "<p> The reasons of using this dataset are:<p>\n",
    "<ul>\n",
    "    <li>It has 50000 reviews</li>\n",
    "    <li>It is easy to use as the data has been transformed to a unique ndarray containing numerical values</li>\n",
    "    <li>Little amount of preprocessing is involved</li>\n",
    "</ul>\n"
   ]
  },
  {
   "cell_type": "markdown",
   "metadata": {},
   "source": [
    "<p>There is a really good example of [Movie reviewes using LSTM](https://github.com/keras-team/keras/edit/master/examples/imdb_lstm.py) which I used as a referene for  this assignment.</p>"
   ]
  },
  {
   "cell_type": "code",
   "execution_count": 1,
   "metadata": {},
   "outputs": [
    {
     "name": "stderr",
     "output_type": "stream",
     "text": [
      "Using TensorFlow backend.\n"
     ]
    }
   ],
   "source": [
    "from __future__ import print_function\n",
    "from keras.preprocessing import sequence\n",
    "from keras.models import Sequential\n",
    "from keras.layers import Dense, Embedding\n",
    "from keras.layers import LSTM\n",
    "from keras.datasets import imdb\n"
   ]
  },
  {
   "cell_type": "markdown",
   "metadata": {},
   "source": [
    "<h4> Defining Features of data</h4>"
   ]
  },
  {
   "cell_type": "code",
   "execution_count": 2,
   "metadata": {
    "collapsed": true
   },
   "outputs": [],
   "source": [
    "max_features = 10000 # Defines maximum number of features\n",
    "maxlen = 200         # Max length of a review\n",
    "batch_size = 64      # Batch size of the data"
   ]
  },
  {
   "cell_type": "markdown",
   "metadata": {},
   "source": [
    "<h4>Fetching the data from keras</h4>\n",
    "<ul><li><p>It gives data in a numpy array</p></ul></li>\n",
    "<h4>Padding the data after fetching it</h4>"
   ]
  },
  {
   "cell_type": "code",
   "execution_count": 3,
   "metadata": {
    "collapsed": true
   },
   "outputs": [],
   "source": [
    "(x_train, y_train), (x_test, y_test) = imdb.load_data(num_words=max_features)\n",
    "\n",
    "x_train = sequence.pad_sequences(x_train, maxlen=maxlen)\n",
    "x_test = sequence.pad_sequences(x_test, maxlen=maxlen)\n",
    "\n"
   ]
  },
  {
   "cell_type": "markdown",
   "metadata": {},
   "source": [
    "<h4>Resizing the classes in one hot form for training the vector</h4>"
   ]
  },
  {
   "cell_type": "code",
   "execution_count": 4,
   "metadata": {
    "collapsed": true
   },
   "outputs": [],
   "source": [
    "import numpy as np\n",
    "y_train2=np.zeros((25000,2),dtype='int')\n",
    "y_test2=np.zeros((25000,2),dtype='int')\n",
    "\n",
    "for i,x in enumerate(y_train):\n",
    "  y_train2[i][x]=1\n",
    "for i,x in enumerate(y_test):\n",
    "  y_test2[i][x]=1"
   ]
  },
  {
   "cell_type": "markdown",
   "metadata": {},
   "source": [
    "<h4>Defining the archirecture of the model and setting it to train</h4>\n",
    "<p>The architecture comprises of following layers\n",
    "    <ol>\n",
    "        <li>Embedding layer - 128 Nodes</li>\n",
    "        <li>Bi-directional LSTM layer      - 128 Nodes</li>\n",
    "        <li>Dense layer     - 2 Nodes(Classes)</li>\n",
    "    </ol>\n",
    "</p>\n",
    "<p>Other hyperparameters that were tweaked for the following net are\n",
    "    <ul>\n",
    "        <li>Dropout Rate</li>\n",
    "        <li>Number of words in vocabulary</li>\n",
    "        <li>Loss function = binary cross entropy</li>\n",
    "        <li>optimizer     = Adam optimizer</li>\n",
    "    </ul>\n",
    "</p>"
   ]
  },
  {
   "cell_type": "code",
   "execution_count": 5,
   "metadata": {},
   "outputs": [
    {
     "name": "stdout",
     "output_type": "stream",
     "text": [
      "Train...\n",
      "Train on 25000 samples, validate on 25000 samples\n",
      "Epoch 1/4\n",
      "25000/25000 [==============================] - 288s 12ms/step - loss: 0.4841 - acc: 0.7695 - val_loss: 0.3875 - val_acc: 0.8341\n",
      "\n",
      "Epoch 00001: val_loss improved from inf to 0.38748, saving model to LSSTM_MODEL.hdf5\n",
      "Epoch 2/4\n",
      "25000/25000 [==============================] - 382s 15ms/step - loss: 0.3584 - acc: 0.8483 - val_loss: 0.3622 - val_acc: 0.8481\n",
      "\n",
      "Epoch 00002: val_loss improved from 0.38748 to 0.36218, saving model to LSSTM_MODEL.hdf5\n",
      "Epoch 3/4\n",
      "25000/25000 [==============================] - 383s 15ms/step - loss: 0.2939 - acc: 0.8819 - val_loss: 0.3438 - val_acc: 0.8565\n",
      "\n",
      "Epoch 00003: val_loss improved from 0.36218 to 0.34378, saving model to LSSTM_MODEL.hdf5\n",
      "Epoch 4/4\n",
      "25000/25000 [==============================] - 388s 16ms/step - loss: 0.2303 - acc: 0.9103 - val_loss: 0.3691 - val_acc: 0.8416\n",
      "\n",
      "Epoch 00004: val_loss did not improve\n",
      "25000/25000 [==============================] - 45s 2ms/step\n",
      "Test score: 0.369127940636\n",
      "Test accuracy: 0.84156\n"
     ]
    }
   ],
   "source": [
    "from keras.layers import Bidirectional\n",
    "from keras.callbacks import ModelCheckpoint\n",
    "\n",
    "checkpointer = ModelCheckpoint(filepath='LSSTM_MODEL.hdf5',verbose=1, save_best_only=True)\n",
    "\n",
    "model = Sequential()\n",
    "model.add(Embedding(max_features, 128))\n",
    "model.add(Bidirectional(LSTM(84, dropout=0.2, recurrent_dropout=0.2)))\n",
    "model.add(Dense(2, activation='sigmoid'))\n",
    "\n",
    "# try using different optimizers and different optimizer configs\n",
    "model.compile(loss='binary_crossentropy',\n",
    "              optimizer='adam',\n",
    "              metrics=['accuracy'])\n",
    "\n",
    "print('Train...')\n",
    "model.fit(x_train, y_train2,\n",
    "          batch_size=batch_size,\n",
    "          epochs=4,\n",
    "          validation_data=(x_test, y_test2),\n",
    "         callbacks=[checkpointer])\n",
    "score, acc = model.evaluate(x_test, y_test2,\n",
    "                            batch_size=batch_size)\n",
    "print('Test score:', score)\n",
    "print('Test accuracy:', acc)\n"
   ]
  },
  {
   "cell_type": "markdown",
   "metadata": {},
   "source": [
    "<h2>Results and analysis</h2>\n",
    "\n",
    "<p><b> Accuracy :-</b>84%</p>\n",
    "<h4>Comparison with Unidirectional LSTM</h4>\n",
    "\n",
    "<p>In the previous assignment, we used LSTM to classify the sentiment of the movie reviews with 85% accuracy.</p>\n",
    "<p>In this assignment, I attempted a bidirectional LSTM to preserve information both ways in time.</p>\n",
    "<p>However it is evident that bidirectional LSTMs do not help much with classification. It may be useful in generative models where information from future is valuable.</p>\n"
   ]
  }
 ],
 "metadata": {
  "kernelspec": {
   "display_name": "Python 3",
   "language": "python",
   "name": "python3"
  },
  "language_info": {
   "codemirror_mode": {
    "name": "ipython",
    "version": 3
   },
   "file_extension": ".py",
   "mimetype": "text/x-python",
   "name": "python",
   "nbconvert_exporter": "python",
   "pygments_lexer": "ipython3",
   "version": "3.6.4"
  }
 },
 "nbformat": 4,
 "nbformat_minor": 2
}
